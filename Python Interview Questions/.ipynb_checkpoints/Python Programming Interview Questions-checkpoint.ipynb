{
 "cells": [
  {
   "cell_type": "markdown",
   "id": "0553f07a",
   "metadata": {},
   "source": [
    "## User will input (3ages).Find the oldest one"
   ]
  },
  {
   "cell_type": "code",
   "execution_count": 5,
   "id": "569016ed",
   "metadata": {},
   "outputs": [
    {
     "name": "stdout",
     "output_type": "stream",
     "text": [
      "Enter first age : 35\n",
      "Enter second age : 32\n",
      "Enter third age : 73\n",
      "The oldest age is : 73\n"
     ]
    }
   ],
   "source": [
    "try:\n",
    "    age1 = int(input(\"Enter first age : \"))\n",
    "    age2 = int(input(\"Enter second age : \"))\n",
    "    age3 = int(input(\"Enter third age : \"))\n",
    "    if (age1>age2) & (age1>age3):\n",
    "        print(f\"The oldest age is : {age1}\")\n",
    "    elif (age2>age1) & (age2>age3):\n",
    "        print(f\"The oldest age is : {age2}\")\n",
    "    else:\n",
    "        print(f\"The oldest age is : {age3}\")\n",
    "except:\n",
    "    print(\"Invalid Input!\")"
   ]
  },
  {
   "cell_type": "code",
   "execution_count": null,
   "id": "5ed4905f",
   "metadata": {},
   "outputs": [],
   "source": []
  },
  {
   "cell_type": "markdown",
   "id": "634575b6",
   "metadata": {},
   "source": [
    "## Write a program that will convert celsius value to fahrenheit and vice verse."
   ]
  },
  {
   "cell_type": "code",
   "execution_count": 20,
   "id": "57680854",
   "metadata": {
    "collapsed": true
   },
   "outputs": [
    {
     "name": "stdout",
     "output_type": "stream",
     "text": [
      "\n",
      "            1.Enter to calculate temperature in celsius to fahrenheit\n",
      "\n",
      "            2.Enter to calculate temperature in fehrenheit to celsius\n",
      "\n",
      "            3.Enter to terminate program.\n",
      "            1\n",
      "Enter temperature in celsius scale : 123\n",
      "123.0 degree in celsius is equal to 253.40 fahrenheit. \n",
      "\n",
      "            1.Enter to calculate temperature in celsius to fahrenheit\n",
      "\n",
      "            2.Enter to calculate temperature in fehrenheit to celsius\n",
      "\n",
      "            3.Enter to terminate program.\n",
      "            2\n",
      "Enter temperature in fahrenheit scale : 76\n",
      "76.0 in fahrenheit is equal to 24.44 degree . \n",
      "\n",
      "            1.Enter to calculate temperature in celsius to fahrenheit\n",
      "\n",
      "            2.Enter to calculate temperature in fehrenheit to celsius\n",
      "\n",
      "            3.Enter to terminate program.\n",
      "            3\n"
     ]
    }
   ],
   "source": [
    "def CelToFah(temp):\n",
    "    fah = (9/5)*temp + 32\n",
    "    print(f\"{temp} degree in celsius is equal to {format(fah, '.2f')} fahrenheit. \")\n",
    "def FahToCel(temp):\n",
    "    cel = ((temp-32)*5)/9\n",
    "    print(f\"{temp} in fahrenheit is equal to {format(cel, '.2f')} degree . \")\n",
    "    \n",
    "def main():\n",
    "    try:\n",
    "        while True:\n",
    "            choice = int(input(\"\"\"\n",
    "            1.Enter to calculate temperature in celsius to fahrenheit\\n\n",
    "            2.Enter to calculate temperature in fehrenheit to celsius\\n\n",
    "            3.Enter to terminate program.\n",
    "            \"\"\"))\n",
    "            if choice==1:\n",
    "                temp = float(input(\"Enter temperature in celsius scale : \"))\n",
    "                CelToFah(temp)\n",
    "            if choice==2:\n",
    "                temp = float(input(\"Enter temperature in fahrenheit scale : \"))\n",
    "                FahToCel(temp)\n",
    "            if choice==3:\n",
    "                break\n",
    "    except:\n",
    "        print(\"Please provide valid inputs!\")\n",
    "\n",
    "if __name__ == \"__main__\":\n",
    "    main()"
   ]
  },
  {
   "cell_type": "code",
   "execution_count": null,
   "id": "aae24364",
   "metadata": {},
   "outputs": [],
   "source": []
  },
  {
   "cell_type": "markdown",
   "id": "f74cf3e8",
   "metadata": {},
   "source": [
    "## Write a program that will give you the sum of 3 digits"
   ]
  },
  {
   "cell_type": "code",
   "execution_count": 34,
   "id": "6b9ea4e5",
   "metadata": {},
   "outputs": [
    {
     "name": "stdout",
     "output_type": "stream",
     "text": [
      "Enter a number of three digits : 654\n",
      "Sum of these 654 three digits number is : 15\n"
     ]
    }
   ],
   "source": [
    "try:\n",
    "    num = input(\"Enter a number of three digits : \")\n",
    "    Sum = [int(a) for a in num]\n",
    "    print(f\"Sum of these {num} three digits number is : {sum(Sum)}\")\n",
    "except:\n",
    "    print(\"Invalid Input!\")"
   ]
  },
  {
   "cell_type": "code",
   "execution_count": null,
   "id": "e8dda2af",
   "metadata": {},
   "outputs": [],
   "source": []
  },
  {
   "cell_type": "markdown",
   "id": "0656750b",
   "metadata": {},
   "source": [
    "## Write a program that will reverse a four digit number.Also it checks whether the reverse is true."
   ]
  },
  {
   "cell_type": "code",
   "execution_count": 45,
   "id": "b5fcf9b4",
   "metadata": {},
   "outputs": [
    {
     "name": "stdout",
     "output_type": "stream",
     "text": [
      "Enter a number of four digits : 3456\n",
      "Given numbe is 3456 and revers of given number is : 6543\n"
     ]
    }
   ],
   "source": [
    "try:\n",
    "    num = input(\"Enter a number of four digits : \")\n",
    "    reverse = [a for a in num][::-1]\n",
    "    reverse = \"\".join(reverse)\n",
    "    print(f\"Given numbe is {num} and revers of given number is : {reverse}\")\n",
    "except Exception as e:\n",
    "    print(\"Please, provide valid input!\")"
   ]
  },
  {
   "cell_type": "code",
   "execution_count": null,
   "id": "b29444e8",
   "metadata": {},
   "outputs": [],
   "source": []
  },
  {
   "cell_type": "code",
   "execution_count": null,
   "id": "e710f97d",
   "metadata": {},
   "outputs": [],
   "source": []
  },
  {
   "cell_type": "code",
   "execution_count": null,
   "id": "d57717e8",
   "metadata": {},
   "outputs": [],
   "source": []
  },
  {
   "cell_type": "code",
   "execution_count": null,
   "id": "55de5b36",
   "metadata": {},
   "outputs": [],
   "source": []
  },
  {
   "cell_type": "code",
   "execution_count": null,
   "id": "b40a93bf",
   "metadata": {},
   "outputs": [],
   "source": []
  },
  {
   "cell_type": "code",
   "execution_count": null,
   "id": "cf4be3ab",
   "metadata": {},
   "outputs": [],
   "source": []
  },
  {
   "cell_type": "code",
   "execution_count": null,
   "id": "5acc0d8b",
   "metadata": {},
   "outputs": [],
   "source": []
  },
  {
   "cell_type": "code",
   "execution_count": null,
   "id": "ba1900d1",
   "metadata": {},
   "outputs": [],
   "source": []
  },
  {
   "cell_type": "code",
   "execution_count": null,
   "id": "c4a9e345",
   "metadata": {},
   "outputs": [],
   "source": []
  },
  {
   "cell_type": "code",
   "execution_count": null,
   "id": "6fa250ea",
   "metadata": {},
   "outputs": [],
   "source": []
  },
  {
   "cell_type": "code",
   "execution_count": null,
   "id": "44cc8b9a",
   "metadata": {},
   "outputs": [],
   "source": []
  },
  {
   "cell_type": "code",
   "execution_count": null,
   "id": "deb6d8ec",
   "metadata": {},
   "outputs": [],
   "source": []
  },
  {
   "cell_type": "code",
   "execution_count": null,
   "id": "4052b85b",
   "metadata": {},
   "outputs": [],
   "source": []
  },
  {
   "cell_type": "code",
   "execution_count": null,
   "id": "c17dbb6c",
   "metadata": {},
   "outputs": [],
   "source": []
  },
  {
   "cell_type": "code",
   "execution_count": null,
   "id": "950ae009",
   "metadata": {},
   "outputs": [],
   "source": []
  },
  {
   "cell_type": "code",
   "execution_count": null,
   "id": "8086f405",
   "metadata": {},
   "outputs": [],
   "source": []
  },
  {
   "cell_type": "code",
   "execution_count": null,
   "id": "cef2f71d",
   "metadata": {},
   "outputs": [],
   "source": []
  },
  {
   "cell_type": "code",
   "execution_count": null,
   "id": "88211dc7",
   "metadata": {},
   "outputs": [],
   "source": []
  },
  {
   "cell_type": "code",
   "execution_count": null,
   "id": "e3e8bc48",
   "metadata": {},
   "outputs": [],
   "source": []
  },
  {
   "cell_type": "code",
   "execution_count": null,
   "id": "ef2d00bb",
   "metadata": {},
   "outputs": [],
   "source": []
  },
  {
   "cell_type": "code",
   "execution_count": null,
   "id": "fbd11280",
   "metadata": {},
   "outputs": [],
   "source": []
  },
  {
   "cell_type": "code",
   "execution_count": null,
   "id": "845f2c18",
   "metadata": {},
   "outputs": [],
   "source": []
  },
  {
   "cell_type": "code",
   "execution_count": null,
   "id": "4fc44ba4",
   "metadata": {},
   "outputs": [],
   "source": []
  },
  {
   "cell_type": "code",
   "execution_count": null,
   "id": "9db52b33",
   "metadata": {},
   "outputs": [],
   "source": []
  },
  {
   "cell_type": "code",
   "execution_count": null,
   "id": "ccf44754",
   "metadata": {},
   "outputs": [],
   "source": []
  },
  {
   "cell_type": "code",
   "execution_count": null,
   "id": "97447b3e",
   "metadata": {},
   "outputs": [],
   "source": []
  },
  {
   "cell_type": "code",
   "execution_count": null,
   "id": "47c172e3",
   "metadata": {},
   "outputs": [],
   "source": []
  },
  {
   "cell_type": "code",
   "execution_count": null,
   "id": "40c4c7d7",
   "metadata": {},
   "outputs": [],
   "source": []
  },
  {
   "cell_type": "markdown",
   "id": "64e4d17d",
   "metadata": {},
   "source": [
    "## Write a Program to add two integers >0 without using the plus operator."
   ]
  },
  {
   "cell_type": "code",
   "execution_count": 3,
   "id": "1e8d93c5",
   "metadata": {},
   "outputs": [
    {
     "data": {
      "text/plain": [
       "9"
      ]
     },
     "execution_count": 3,
     "metadata": {},
     "output_type": "execute_result"
    }
   ],
   "source": [
    "def Add(x, y):\n",
    "   \n",
    "    if (y == 0):\n",
    "        return x\n",
    "    else:\n",
    "        return Add( x ^ y, (x & y) << 1)\n",
    "     \n",
    "Add(4,5)"
   ]
  },
  {
   "cell_type": "markdown",
   "id": "d0c6cd5d",
   "metadata": {},
   "source": [
    "### For the given points, how will you calculate the Euclidean distance in Python?"
   ]
  },
  {
   "cell_type": "code",
   "execution_count": 4,
   "id": "f5720cf1",
   "metadata": {},
   "outputs": [
    {
     "data": {
      "text/plain": [
       "2.23606797749979"
      ]
     },
     "execution_count": 4,
     "metadata": {},
     "output_type": "execute_result"
    }
   ],
   "source": [
    "from math import sqrt\n",
    "plot1 = [1,3]\n",
    "plot2 = [2,5]\n",
    "# The Euclidean distance can be calculated as follows:\n",
    "euclidean_distance = sqrt((plot1[0]-plot2[0])**2 + (plot1[1]-plot2[1])**2)\n",
    "euclidean_distance"
   ]
  },
  {
   "cell_type": "code",
   "execution_count": null,
   "id": "c060e219",
   "metadata": {},
   "outputs": [],
   "source": []
  },
  {
   "cell_type": "code",
   "execution_count": null,
   "id": "6d7dc79a",
   "metadata": {},
   "outputs": [],
   "source": []
  }
 ],
 "metadata": {
  "kernelspec": {
   "display_name": "Python 3 (ipykernel)",
   "language": "python",
   "name": "python3"
  },
  "language_info": {
   "codemirror_mode": {
    "name": "ipython",
    "version": 3
   },
   "file_extension": ".py",
   "mimetype": "text/x-python",
   "name": "python",
   "nbconvert_exporter": "python",
   "pygments_lexer": "ipython3",
   "version": "3.8.10"
  }
 },
 "nbformat": 4,
 "nbformat_minor": 5
}
