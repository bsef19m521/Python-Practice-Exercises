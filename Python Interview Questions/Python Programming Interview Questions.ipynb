{
 "cells": [
  {
   "cell_type": "markdown",
   "id": "4765ff83",
   "metadata": {},
   "source": [
    "### Company: Etios Limited\n",
    "\n",
    "### Role: Data Scientist"
   ]
  },
  {
   "cell_type": "markdown",
   "id": "0a2e6dec",
   "metadata": {},
   "source": [
    "## 1 . How does a Decision Tree handle continuous(numerical) features?\n",
    "#### Answer.\n",
    "Decision Trees handle continuous features by converting these continuous features to a threshold-based boolean feature. To decide The threshold value, we use the concept of Information Gain, choosing that threshold that maximizes the information gain."
   ]
  },
  {
   "cell_type": "markdown",
   "id": "b1ded90b",
   "metadata": {},
   "source": [
    "## 2. What are Loss Function and Cost Functions?\n",
    "#### Answer. \n",
    "The loss function is to capture the difference between the actual and predicted values for a single record whereas cost functions aggregate the difference for the entire training dataset.\n",
    "The Most commonly used loss functions are Mean-squared error and Hinge loss."
   ]
  },
  {
   "cell_type": "markdown",
   "id": "2e8247dc",
   "metadata": {},
   "source": [
    "## 3. What is the difference between Python Arrays and lists?\n",
    "#### Answer. \n",
    "Arrays in python can only contain elements of same data types i.e., data type of array should be homogeneous. It is a thin wrapper around C language arrays and consumes far less memory than lists.\n",
    "Lists in python can contain elements of different data types i.e., data type of lists can be heterogeneous. It has the disadvantage of consuming large memory."
   ]
  },
  {
   "cell_type": "markdown",
   "id": "2069021d",
   "metadata": {},
   "source": [
    "## 4. Write a Program to add two integers >0 without using the plus operator."
   ]
  },
  {
   "cell_type": "code",
   "execution_count": 3,
   "id": "e0e04594",
   "metadata": {},
   "outputs": [
    {
     "data": {
      "text/plain": [
       "9"
      ]
     },
     "execution_count": 3,
     "metadata": {},
     "output_type": "execute_result"
    }
   ],
   "source": [
    "def Add(x, y):\n",
    "   \n",
    "    if (y == 0):\n",
    "        return x\n",
    "    else:\n",
    "        return Add( x ^ y, (x & y) << 1)\n",
    "     \n",
    "Add(4,5)"
   ]
  },
  {
   "cell_type": "markdown",
   "id": "617c0ffb",
   "metadata": {},
   "source": [
    "## 5. What is root cause analysis? How to identify a cause vs. a correlation? Give examples.\n",
    "#### Answer.\n",
    "`Root cause analysis:` A method of problem-solving used for identifying the root cause(s) of a problem [5]\n",
    "Correlation measures the relationship between two variables, range from -1 to 1. Causation is when a first event appears to have caused a second event. Causation essentially looks at direct relationships while correlation can look at both direct and indirect relationships.\n",
    "\n",
    "`Example:` a higher crime rate is associated with higher sales in ice cream in Canada, aka they are positively correlated. However, this doesn’t mean that one causes another. Instead, it’s because both occur more when it’s warmer outside. You can test for causation using hypothesis testing or A/B testing."
   ]
  },
  {
   "cell_type": "code",
   "execution_count": null,
   "id": "25d85079",
   "metadata": {},
   "outputs": [],
   "source": []
  },
  {
   "cell_type": "code",
   "execution_count": null,
   "id": "5f13ebda",
   "metadata": {},
   "outputs": [],
   "source": []
  },
  {
   "cell_type": "code",
   "execution_count": null,
   "id": "7bb02b23",
   "metadata": {},
   "outputs": [],
   "source": []
  }
 ],
 "metadata": {
  "kernelspec": {
   "display_name": "Python 3 (ipykernel)",
   "language": "python",
   "name": "python3"
  },
  "language_info": {
   "codemirror_mode": {
    "name": "ipython",
    "version": 3
   },
   "file_extension": ".py",
   "mimetype": "text/x-python",
   "name": "python",
   "nbconvert_exporter": "python",
   "pygments_lexer": "ipython3",
   "version": "3.8.10"
  }
 },
 "nbformat": 4,
 "nbformat_minor": 5
}
