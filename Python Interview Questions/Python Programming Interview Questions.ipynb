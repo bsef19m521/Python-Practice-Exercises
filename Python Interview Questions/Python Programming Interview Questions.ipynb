{
 "cells": [
  {
   "cell_type": "markdown",
   "id": "f0cc3e99",
   "metadata": {},
   "source": [
    "## Write a Program to add two integers >0 without using the plus operator."
   ]
  },
  {
   "cell_type": "code",
   "execution_count": 3,
   "id": "8dfd7c1b",
   "metadata": {},
   "outputs": [
    {
     "data": {
      "text/plain": [
       "9"
      ]
     },
     "execution_count": 3,
     "metadata": {},
     "output_type": "execute_result"
    }
   ],
   "source": [
    "def Add(x, y):\n",
    "   \n",
    "    if (y == 0):\n",
    "        return x\n",
    "    else:\n",
    "        return Add( x ^ y, (x & y) << 1)\n",
    "     \n",
    "Add(4,5)"
   ]
  },
  {
   "cell_type": "markdown",
   "id": "56ab316b",
   "metadata": {},
   "source": []
  },
  {
   "cell_type": "code",
   "execution_count": null,
   "id": "1cd1c9ff",
   "metadata": {},
   "outputs": [],
   "source": []
  },
  {
   "cell_type": "code",
   "execution_count": null,
   "id": "6e728b3b",
   "metadata": {},
   "outputs": [],
   "source": []
  },
  {
   "cell_type": "code",
   "execution_count": null,
   "id": "30475b3c",
   "metadata": {},
   "outputs": [],
   "source": []
  }
 ],
 "metadata": {
  "kernelspec": {
   "display_name": "Python 3 (ipykernel)",
   "language": "python",
   "name": "python3"
  },
  "language_info": {
   "codemirror_mode": {
    "name": "ipython",
    "version": 3
   },
   "file_extension": ".py",
   "mimetype": "text/x-python",
   "name": "python",
   "nbconvert_exporter": "python",
   "pygments_lexer": "ipython3",
   "version": "3.8.10"
  }
 },
 "nbformat": 4,
 "nbformat_minor": 5
}
