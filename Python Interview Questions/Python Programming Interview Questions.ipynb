{
 "cells": [
  {
   "cell_type": "markdown",
   "id": "a6cf1390",
   "metadata": {},
   "source": [
    "## User will input (3ages).Find the oldest one"
   ]
  },
  {
   "cell_type": "code",
   "execution_count": 5,
   "id": "97f036cf",
   "metadata": {},
   "outputs": [
    {
     "name": "stdout",
     "output_type": "stream",
     "text": [
      "Enter first age : 35\n",
      "Enter second age : 32\n",
      "Enter third age : 73\n",
      "The oldest age is : 73\n"
     ]
    }
   ],
   "source": [
    "try:\n",
    "    age1 = int(input(\"Enter first age : \"))\n",
    "    age2 = int(input(\"Enter second age : \"))\n",
    "    age3 = int(input(\"Enter third age : \"))\n",
    "    if (age1>age2) & (age1>age3):\n",
    "        print(f\"The oldest age is : {age1}\")\n",
    "    elif (age2>age1) & (age2>age3):\n",
    "        print(f\"The oldest age is : {age2}\")\n",
    "    else:\n",
    "        print(f\"The oldest age is : {age3}\")\n",
    "except:\n",
    "    print(\"Invalid Input!\")"
   ]
  },
  {
   "cell_type": "code",
   "execution_count": null,
   "id": "4a65415c",
   "metadata": {},
   "outputs": [],
   "source": []
  },
  {
   "cell_type": "markdown",
   "id": "6e4ec682",
   "metadata": {},
   "source": [
    "## Write a program that will convert celsius value to fahrenheit and vice verse."
   ]
  },
  {
   "cell_type": "code",
   "execution_count": 20,
   "id": "237e69b7",
   "metadata": {
    "collapsed": true
   },
   "outputs": [
    {
     "name": "stdout",
     "output_type": "stream",
     "text": [
      "\n",
      "            1.Enter to calculate temperature in celsius to fahrenheit\n",
      "\n",
      "            2.Enter to calculate temperature in fehrenheit to celsius\n",
      "\n",
      "            3.Enter to terminate program.\n",
      "            1\n",
      "Enter temperature in celsius scale : 123\n",
      "123.0 degree in celsius is equal to 253.40 fahrenheit. \n",
      "\n",
      "            1.Enter to calculate temperature in celsius to fahrenheit\n",
      "\n",
      "            2.Enter to calculate temperature in fehrenheit to celsius\n",
      "\n",
      "            3.Enter to terminate program.\n",
      "            2\n",
      "Enter temperature in fahrenheit scale : 76\n",
      "76.0 in fahrenheit is equal to 24.44 degree . \n",
      "\n",
      "            1.Enter to calculate temperature in celsius to fahrenheit\n",
      "\n",
      "            2.Enter to calculate temperature in fehrenheit to celsius\n",
      "\n",
      "            3.Enter to terminate program.\n",
      "            3\n"
     ]
    }
   ],
   "source": [
    "def CelToFah(temp):\n",
    "    fah = (9/5)*temp + 32\n",
    "    print(f\"{temp} degree in celsius is equal to {format(fah, '.2f')} fahrenheit. \")\n",
    "def FahToCel(temp):\n",
    "    cel = ((temp-32)*5)/9\n",
    "    print(f\"{temp} in fahrenheit is equal to {format(cel, '.2f')} degree . \")\n",
    "    \n",
    "def main():\n",
    "    try:\n",
    "        while True:\n",
    "            choice = int(input(\"\"\"\n",
    "            1.Enter to calculate temperature in celsius to fahrenheit\\n\n",
    "            2.Enter to calculate temperature in fehrenheit to celsius\\n\n",
    "            3.Enter to terminate program.\n",
    "            \"\"\"))\n",
    "            if choice==1:\n",
    "                temp = float(input(\"Enter temperature in celsius scale : \"))\n",
    "                CelToFah(temp)\n",
    "            if choice==2:\n",
    "                temp = float(input(\"Enter temperature in fahrenheit scale : \"))\n",
    "                FahToCel(temp)\n",
    "            if choice==3:\n",
    "                break\n",
    "    except:\n",
    "        print(\"Please provide valid inputs!\")\n",
    "\n",
    "if __name__ == \"__main__\":\n",
    "    main()"
   ]
  },
  {
   "cell_type": "code",
   "execution_count": null,
   "id": "9231d720",
   "metadata": {},
   "outputs": [],
   "source": []
  },
  {
   "cell_type": "markdown",
   "id": "0a430a04",
   "metadata": {},
   "source": [
    "## Write a program that will give you the sum of 3 digits"
   ]
  },
  {
   "cell_type": "code",
   "execution_count": 21,
   "id": "ea45a67c",
   "metadata": {},
   "outputs": [
    {
     "name": "stdout",
     "output_type": "stream",
     "text": [
      "Enter a number of three digits : 345\n",
      "[345]\n"
     ]
    }
   ],
   "source": [
    "try:\n",
    "    num = input(\"Enter a number of three digits : \")\n",
    "    Sum = sum([int(a) for a in num.split()])\n",
    "    print(Sum)\n",
    "except:\n",
    "    print(\"Invalid Input!\")"
   ]
  },
  {
   "cell_type": "code",
   "execution_count": null,
   "id": "b835e5c7",
   "metadata": {},
   "outputs": [],
   "source": []
  },
  {
   "cell_type": "code",
   "execution_count": null,
   "id": "8a13c5ea",
   "metadata": {},
   "outputs": [],
   "source": []
  },
  {
   "cell_type": "code",
   "execution_count": null,
   "id": "ef5fe14a",
   "metadata": {},
   "outputs": [],
   "source": []
  },
  {
   "cell_type": "code",
   "execution_count": null,
   "id": "510075fb",
   "metadata": {},
   "outputs": [],
   "source": []
  },
  {
   "cell_type": "code",
   "execution_count": null,
   "id": "c9c408fb",
   "metadata": {},
   "outputs": [],
   "source": []
  },
  {
   "cell_type": "code",
   "execution_count": null,
   "id": "ce3f199a",
   "metadata": {},
   "outputs": [],
   "source": []
  },
  {
   "cell_type": "code",
   "execution_count": null,
   "id": "2f226ec1",
   "metadata": {},
   "outputs": [],
   "source": []
  },
  {
   "cell_type": "code",
   "execution_count": null,
   "id": "eeedc051",
   "metadata": {},
   "outputs": [],
   "source": []
  },
  {
   "cell_type": "code",
   "execution_count": null,
   "id": "8a957989",
   "metadata": {},
   "outputs": [],
   "source": []
  },
  {
   "cell_type": "code",
   "execution_count": null,
   "id": "81749214",
   "metadata": {},
   "outputs": [],
   "source": []
  },
  {
   "cell_type": "code",
   "execution_count": null,
   "id": "a8956721",
   "metadata": {},
   "outputs": [],
   "source": []
  },
  {
   "cell_type": "code",
   "execution_count": null,
   "id": "9eab98b4",
   "metadata": {},
   "outputs": [],
   "source": []
  },
  {
   "cell_type": "code",
   "execution_count": null,
   "id": "d4072385",
   "metadata": {},
   "outputs": [],
   "source": []
  },
  {
   "cell_type": "code",
   "execution_count": null,
   "id": "0078a7fb",
   "metadata": {},
   "outputs": [],
   "source": []
  },
  {
   "cell_type": "code",
   "execution_count": null,
   "id": "17e97191",
   "metadata": {},
   "outputs": [],
   "source": []
  },
  {
   "cell_type": "code",
   "execution_count": null,
   "id": "135498e7",
   "metadata": {},
   "outputs": [],
   "source": []
  },
  {
   "cell_type": "code",
   "execution_count": null,
   "id": "7249eb52",
   "metadata": {},
   "outputs": [],
   "source": []
  },
  {
   "cell_type": "code",
   "execution_count": null,
   "id": "c45e8d6a",
   "metadata": {},
   "outputs": [],
   "source": []
  },
  {
   "cell_type": "code",
   "execution_count": null,
   "id": "6be4a565",
   "metadata": {},
   "outputs": [],
   "source": []
  },
  {
   "cell_type": "code",
   "execution_count": null,
   "id": "00a99f6d",
   "metadata": {},
   "outputs": [],
   "source": []
  },
  {
   "cell_type": "code",
   "execution_count": null,
   "id": "d21447fe",
   "metadata": {},
   "outputs": [],
   "source": []
  },
  {
   "cell_type": "code",
   "execution_count": null,
   "id": "52ebf6f7",
   "metadata": {},
   "outputs": [],
   "source": []
  },
  {
   "cell_type": "code",
   "execution_count": null,
   "id": "80b951a8",
   "metadata": {},
   "outputs": [],
   "source": []
  },
  {
   "cell_type": "code",
   "execution_count": null,
   "id": "e0d55c04",
   "metadata": {},
   "outputs": [],
   "source": []
  },
  {
   "cell_type": "code",
   "execution_count": null,
   "id": "08ac9506",
   "metadata": {},
   "outputs": [],
   "source": []
  },
  {
   "cell_type": "code",
   "execution_count": null,
   "id": "8c6a7106",
   "metadata": {},
   "outputs": [],
   "source": []
  },
  {
   "cell_type": "code",
   "execution_count": null,
   "id": "f344cb0e",
   "metadata": {},
   "outputs": [],
   "source": []
  },
  {
   "cell_type": "code",
   "execution_count": null,
   "id": "14e3c170",
   "metadata": {},
   "outputs": [],
   "source": []
  },
  {
   "cell_type": "code",
   "execution_count": null,
   "id": "40bf5ca4",
   "metadata": {},
   "outputs": [],
   "source": []
  },
  {
   "cell_type": "code",
   "execution_count": null,
   "id": "5f5b082b",
   "metadata": {},
   "outputs": [],
   "source": []
  },
  {
   "cell_type": "code",
   "execution_count": null,
   "id": "64ec9fb7",
   "metadata": {},
   "outputs": [],
   "source": []
  },
  {
   "cell_type": "code",
   "execution_count": null,
   "id": "e7d34f4b",
   "metadata": {},
   "outputs": [],
   "source": []
  },
  {
   "cell_type": "code",
   "execution_count": null,
   "id": "b8f6d7ce",
   "metadata": {},
   "outputs": [],
   "source": []
  },
  {
   "cell_type": "markdown",
   "id": "64e4d17d",
   "metadata": {},
   "source": [
    "## Write a Program to add two integers >0 without using the plus operator."
   ]
  },
  {
   "cell_type": "code",
   "execution_count": 3,
   "id": "1e8d93c5",
   "metadata": {},
   "outputs": [
    {
     "data": {
      "text/plain": [
       "9"
      ]
     },
     "execution_count": 3,
     "metadata": {},
     "output_type": "execute_result"
    }
   ],
   "source": [
    "def Add(x, y):\n",
    "   \n",
    "    if (y == 0):\n",
    "        return x\n",
    "    else:\n",
    "        return Add( x ^ y, (x & y) << 1)\n",
    "     \n",
    "Add(4,5)"
   ]
  },
  {
   "cell_type": "markdown",
   "id": "d0c6cd5d",
   "metadata": {},
   "source": [
    "### For the given points, how will you calculate the Euclidean distance in Python?"
   ]
  },
  {
   "cell_type": "code",
   "execution_count": 4,
   "id": "f5720cf1",
   "metadata": {},
   "outputs": [
    {
     "data": {
      "text/plain": [
       "2.23606797749979"
      ]
     },
     "execution_count": 4,
     "metadata": {},
     "output_type": "execute_result"
    }
   ],
   "source": [
    "from math import sqrt\n",
    "plot1 = [1,3]\n",
    "plot2 = [2,5]\n",
    "# The Euclidean distance can be calculated as follows:\n",
    "euclidean_distance = sqrt((plot1[0]-plot2[0])**2 + (plot1[1]-plot2[1])**2)\n",
    "euclidean_distance"
   ]
  },
  {
   "cell_type": "code",
   "execution_count": null,
   "id": "c060e219",
   "metadata": {},
   "outputs": [],
   "source": []
  },
  {
   "cell_type": "code",
   "execution_count": null,
   "id": "6d7dc79a",
   "metadata": {},
   "outputs": [],
   "source": []
  }
 ],
 "metadata": {
  "kernelspec": {
   "display_name": "Python 3 (ipykernel)",
   "language": "python",
   "name": "python3"
  },
  "language_info": {
   "codemirror_mode": {
    "name": "ipython",
    "version": 3
   },
   "file_extension": ".py",
   "mimetype": "text/x-python",
   "name": "python",
   "nbconvert_exporter": "python",
   "pygments_lexer": "ipython3",
   "version": "3.8.10"
  }
 },
 "nbformat": 4,
 "nbformat_minor": 5
}
